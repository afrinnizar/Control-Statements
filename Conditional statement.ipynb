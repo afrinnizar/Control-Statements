{
 "cells": [
  {
   "cell_type": "code",
   "execution_count": 1,
   "id": "e60948f0-483a-4c17-a561-35c6a59e7049",
   "metadata": {},
   "outputs": [
    {
     "name": "stdout",
     "output_type": "stream",
     "text": [
      "You are ELIGIBLE to vote\n"
     ]
    }
   ],
   "source": [
    "#Simple IF statement --> Condition True\n",
    "age=18\n",
    "if age>=18:\n",
    "    print('You are ELIGIBLE to vote')\n"
   ]
  },
  {
   "cell_type": "code",
   "execution_count": 3,
   "id": "36aef64d-ab1c-4b5e-8ec9-373f42a9b62f",
   "metadata": {},
   "outputs": [],
   "source": [
    "age=18                                    #simple if statement--------->conditional false\n",
    "if age>18:\n",
    "    print('You are ELIGIBLE to vote')"
   ]
  },
  {
   "cell_type": "code",
   "execution_count": 4,
   "id": "8b515646-50f8-43e1-b545-8722ff16cb9a",
   "metadata": {},
   "outputs": [
    {
     "name": "stdout",
     "output_type": "stream",
     "text": [
      "You are INELIGIBLE to vote\n"
     ]
    }
   ],
   "source": [
    "#IF/ELSE statement\n",
    "age=18\n",
    "if age>18:\n",
    "    print('You are ELIGIBLE to vote')\n",
    "else:\n",
    "    print('You are INELIGIBLE to vote')"
   ]
  },
  {
   "cell_type": "code",
   "execution_count": 7,
   "id": "27cabd0d-bc3a-4908-a94b-db2d8bc4fc62",
   "metadata": {},
   "outputs": [
    {
     "name": "stdin",
     "output_type": "stream",
     "text": [
      "Enter the age 87\n"
     ]
    },
    {
     "name": "stdout",
     "output_type": "stream",
     "text": [
      "You are ELIGIBLE to vote\n"
     ]
    }
   ],
   "source": [
    "# Checking the condition by fetching user values \n",
    "age=int(input('Enter the age'))\n",
    "if age>=18:\n",
    "    print('You are ELIGIBLE to vote')\n",
    "else:\n",
    "    print('You are INELIGIBLE to vote')"
   ]
  },
  {
   "cell_type": "code",
   "execution_count": 8,
   "id": "b1cc4c49-df87-4fc8-b39c-89747be4156f",
   "metadata": {},
   "outputs": [
    {
     "name": "stdin",
     "output_type": "stream",
     "text": [
      "Enter the age 50\n"
     ]
    },
    {
     "name": "stdout",
     "output_type": "stream",
     "text": [
      "ADULT\n"
     ]
    }
   ],
   "source": [
    "#ELIF LADDER statement\n",
    "age=int(input('Enter the age'))\n",
    "if age<18:\n",
    "    print(\"MINOR\")\n",
    "elif age>=18 and age<60:\n",
    "    print(\"ADULT\")\n",
    "else:\n",
    "    print('SENIOR CITIZEN')"
   ]
  },
  {
   "cell_type": "code",
   "execution_count": 9,
   "id": "d65b94a6-e5b8-43d9-b18d-7bf6d8177139",
   "metadata": {},
   "outputs": [
    {
     "name": "stdin",
     "output_type": "stream",
     "text": [
      "Enter your Mark 50\n"
     ]
    },
    {
     "name": "stdout",
     "output_type": "stream",
     "text": [
      "You have been FAILED\n"
     ]
    }
   ],
   "source": [
    "# Evaluating Grade on the basis of marks\n",
    "m=int(input('Enter your Mark'))\n",
    "if m>=90:\n",
    "    print('You have secured A GRADE')\n",
    "elif m>=75:\n",
    "    print('You have secured B GRADE')\n",
    "elif m>=65:\n",
    "    print('You have secured C GRADE')\n",
    "elif m>=55:\n",
    "    print('You have secured D GRADE')\n",
    "else:\n",
    "    print('You have been FAILED')"
   ]
  },
  {
   "cell_type": "code",
   "execution_count": 10,
   "id": "fbce57aa-dd34-449d-8fdb-20f57b5a96ec",
   "metadata": {},
   "outputs": [
    {
     "name": "stdin",
     "output_type": "stream",
     "text": [
      "Enter your age 20\n",
      "Do you have a VOTER ID(True/False): true\n"
     ]
    },
    {
     "name": "stdout",
     "output_type": "stream",
     "text": [
      "You need an voter ID\n"
     ]
    }
   ],
   "source": [
    "#Nested IF statement\n",
    "age=int(input('Enter your age'))\n",
    "voter_id=input('Do you have a VOTER ID(True/False):')=='True'\n",
    "if age>=18:\n",
    "    if voter_id==True:\n",
    "        print('You can vote')\n",
    "    else:\n",
    "        print('You need an voter ID')\n",
    "else:\n",
    "    print('You are Minor')"
   ]
  },
  {
   "cell_type": "code",
   "execution_count": 11,
   "id": "a1ad0c17-1b8a-4fa9-991e-7b5356194e52",
   "metadata": {},
   "outputs": [
    {
     "data": {
      "text/plain": [
       "False"
      ]
     },
     "execution_count": 11,
     "metadata": {},
     "output_type": "execute_result"
    }
   ],
   "source": [
    "bool(False)"
   ]
  },
  {
   "cell_type": "code",
   "execution_count": 12,
   "id": "571a502d-b155-4b76-91eb-3ba0dfd16c8b",
   "metadata": {},
   "outputs": [
    {
     "name": "stdin",
     "output_type": "stream",
     "text": [
      "Enter your age 20\n",
      "Do you have a VOTER ID (Y/N): y\n"
     ]
    },
    {
     "name": "stdout",
     "output_type": "stream",
     "text": [
      "You need an voter ID\n"
     ]
    }
   ],
   "source": [
    "age=int(input('Enter your age'))\n",
    "voter_id=input('Do you have a VOTER ID (Y/N):')\n",
    "if voter_id=='y' or voter_id=='Y':\n",
    "    True\n",
    "else:\n",
    "    False\n",
    "if age>=18:\n",
    "    if voter_id==True:\n",
    "        print('You can vote')\n",
    "    else:\n",
    "        print('You need an voter ID')\n",
    "else:\n",
    "    print('You are Minor')"
   ]
  },
  {
   "cell_type": "code",
   "execution_count": null,
   "id": "4b9f1cc5-b2bc-4c1b-b9fe-02e709892a6e",
   "metadata": {},
   "outputs": [],
   "source": []
  }
 ],
 "metadata": {
  "kernelspec": {
   "display_name": "Python 3 (ipykernel)",
   "language": "python",
   "name": "python3"
  },
  "language_info": {
   "codemirror_mode": {
    "name": "ipython",
    "version": 3
   },
   "file_extension": ".py",
   "mimetype": "text/x-python",
   "name": "python",
   "nbconvert_exporter": "python",
   "pygments_lexer": "ipython3",
   "version": "3.13.5"
  }
 },
 "nbformat": 4,
 "nbformat_minor": 5
}
