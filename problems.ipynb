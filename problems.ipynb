{
 "cells": [
  {
   "cell_type": "code",
   "execution_count": 1,
   "id": "7c86b250-ff3e-43d8-9693-1b1ca1284645",
   "metadata": {},
   "outputs": [
    {
     "name": "stdin",
     "output_type": "stream",
     "text": [
      "Enter a number 10\n"
     ]
    },
    {
     "name": "stdout",
     "output_type": "stream",
     "text": [
      "The number is POSITIVE\n"
     ]
    }
   ],
   "source": [
    "#Check if a number is positive or negative\n",
    "user1=int(input('Enter a number'))\n",
    "if user1>1:\n",
    "    print('The number is POSITIVE')\n",
    "else:\n",
    "    print('The number is NEGATIVE')"
   ]
  },
  {
   "cell_type": "code",
   "execution_count": 2,
   "id": "6930984e-811e-4bf3-a067-19a1d233bfae",
   "metadata": {},
   "outputs": [
    {
     "name": "stdin",
     "output_type": "stream",
     "text": [
      "Enter a number 5\n"
     ]
    },
    {
     "name": "stdout",
     "output_type": "stream",
     "text": [
      "The number is POSITIVE\n"
     ]
    }
   ],
   "source": [
    "#Check if a number is positive,negative or zero\n",
    "user2=int(input('Enter a number'))\n",
    "if user2>1:\n",
    "    print('The number is POSITIVE')\n",
    "elif user2==0:\n",
    "    print('The number is ZERO')\n",
    "else:\n",
    "    print('The number is NEGATIVE')"
   ]
  },
  {
   "cell_type": "code",
   "execution_count": 3,
   "id": "4ddee07e-f2e3-4688-9116-bd696a6b2ab9",
   "metadata": {},
   "outputs": [
    {
     "name": "stdin",
     "output_type": "stream",
     "text": [
      "Enter the Number 4\n"
     ]
    },
    {
     "name": "stdout",
     "output_type": "stream",
     "text": [
      "The number is Even\n"
     ]
    }
   ],
   "source": [
    "#Write a program to check number is even or odd\n",
    "user3=int(input('Enter the Number'))\n",
    "if user3%2==0:\n",
    "    print('The number is Even')\n",
    "else:\n",
    "    print('The number is Odd')"
   ]
  },
  {
   "cell_type": "code",
   "execution_count": 4,
   "id": "fee3a120-ed23-4292-8081-637a6280abb4",
   "metadata": {},
   "outputs": [
    {
     "name": "stdin",
     "output_type": "stream",
     "text": [
      "Enter the 1st Number 2\n",
      "Enter the 2nd Number 3\n"
     ]
    },
    {
     "name": "stdout",
     "output_type": "stream",
     "text": [
      "3 is Larger\n"
     ]
    }
   ],
   "source": [
    "#Find the largest of two numbers\n",
    "a=int(input('Enter the 1st Number'))\n",
    "b=int(input('Enter the 2nd Number'))\n",
    "if a>b:\n",
    "    print(a,'is Larger')\n",
    "else:\n",
    "    print(b,'is Larger')\n"
   ]
  },
  {
   "cell_type": "code",
   "execution_count": 5,
   "id": "1cf356f8-410a-4c4b-a2d9-24052daab24b",
   "metadata": {},
   "outputs": [
    {
     "name": "stdout",
     "output_type": "stream",
     "text": [
      "1\n",
      "2\n",
      "3\n",
      "4\n",
      "5\n",
      "6\n",
      "7\n",
      "8\n",
      "9\n",
      "10\n"
     ]
    }
   ],
   "source": [
    "#Print the number from 1 to 10 using for loop\n",
    "for i in range(11):\n",
    "    if i==0:\n",
    "        continue\n",
    "    print(i)"
   ]
  },
  {
   "cell_type": "code",
   "execution_count": 6,
   "id": "cebce961-a3cc-4d45-b93d-c3eb65d2358d",
   "metadata": {},
   "outputs": [
    {
     "name": "stdout",
     "output_type": "stream",
     "text": [
      "2\n",
      "4\n",
      "6\n",
      "8\n",
      "10\n"
     ]
    }
   ],
   "source": [
    "#Print even numbers between 1 and 10 using while loop\n",
    "count=1\n",
    "while count<11:\n",
    "    if count%2==0:\n",
    "        print(count)\n",
    "    count+=1"
   ]
  },
  {
   "cell_type": "code",
   "execution_count": 7,
   "id": "129570e0-04bc-4f78-8eb6-6e74af3d8132",
   "metadata": {},
   "outputs": [
    {
     "name": "stdout",
     "output_type": "stream",
     "text": [
      "0\n",
      "1\n",
      "2\n",
      "3\n",
      "4\n",
      "5\n"
     ]
    }
   ],
   "source": [
    "#Write a loop that breaks when number reaches 5\n",
    "for i in range(6):\n",
    "    print(i)"
   ]
  },
  {
   "cell_type": "code",
   "execution_count": 8,
   "id": "fcd8026c-8567-4f5d-8abc-835cabfb136b",
   "metadata": {},
   "outputs": [
    {
     "name": "stdin",
     "output_type": "stream",
     "text": [
      "Enter the year 2020\n"
     ]
    },
    {
     "name": "stdout",
     "output_type": "stream",
     "text": [
      "2020 is a LEAP YEAR\n"
     ]
    }
   ],
   "source": [
    "#Check if a given year is a leap year\n",
    "user8=int(input('Enter the year'))\n",
    "if user8%4==0:\n",
    "    print(user8,'is a LEAP YEAR')\n",
    "else:\n",
    "    print('It is not a LEAP YEAR')"
   ]
  },
  {
   "cell_type": "code",
   "execution_count": 9,
   "id": "9d152bfd-6db8-42f3-875b-5711564f03c0",
   "metadata": {},
   "outputs": [
    {
     "name": "stdin",
     "output_type": "stream",
     "text": [
      "Enter a Number: 5\n"
     ]
    },
    {
     "name": "stdout",
     "output_type": "stream",
     "text": [
      "The given number is POSITIVE and an ODD\n"
     ]
    }
   ],
   "source": [
    "#Check if a number is positive and then check if it's even or odd\n",
    "user9=int(input('Enter a Number:'))\n",
    "if user9>1:\n",
    "    if user9%2==0:\n",
    "        print('The given number is POSITIVE and an EVEN')\n",
    "    else:\n",
    "        print('The given number is POSITIVE and an ODD')\n",
    "else:\n",
    "    print('The given number is NEGATIVE')"
   ]
  },
  {
   "cell_type": "code",
   "execution_count": 10,
   "id": "f285749f-d49e-4722-b05f-64472dcc801b",
   "metadata": {},
   "outputs": [
    {
     "name": "stdout",
     "output_type": "stream",
     "text": [
      "55\n"
     ]
    }
   ],
   "source": [
    "#Print the sum of first 10 natural numbers using while\n",
    "count=1\n",
    "total=0\n",
    "while count<=10:\n",
    "    total=total+count\n",
    "    count+=1\n",
    "print(total)"
   ]
  },
  {
   "cell_type": "code",
   "execution_count": null,
   "id": "42cc25a6-5bc9-4e77-8d11-77ef75c3178d",
   "metadata": {},
   "outputs": [],
   "source": []
  }
 ],
 "metadata": {
  "kernelspec": {
   "display_name": "Python 3 (ipykernel)",
   "language": "python",
   "name": "python3"
  },
  "language_info": {
   "codemirror_mode": {
    "name": "ipython",
    "version": 3
   },
   "file_extension": ".py",
   "mimetype": "text/x-python",
   "name": "python",
   "nbconvert_exporter": "python",
   "pygments_lexer": "ipython3",
   "version": "3.13.5"
  }
 },
 "nbformat": 4,
 "nbformat_minor": 5
}
